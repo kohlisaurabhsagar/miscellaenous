{
  "nbformat": 4,
  "nbformat_minor": 0,
  "metadata": {
    "colab": {
      "provenance": [],
      "authorship_tag": "ABX9TyPkSfSiBUCz6SwP+6vxI6+8",
      "include_colab_link": true
    },
    "kernelspec": {
      "name": "python3",
      "display_name": "Python 3"
    },
    "language_info": {
      "name": "python"
    }
  },
  "cells": [
    {
      "cell_type": "markdown",
      "metadata": {
        "id": "view-in-github",
        "colab_type": "text"
      },
      "source": [
        "<a href=\"https://colab.research.google.com/github/kohlisaurabhsagar/miscellaenous/blob/main/google_scholar_web_scraper.ipynb\" target=\"_parent\"><img src=\"https://colab.research.google.com/assets/colab-badge.svg\" alt=\"Open In Colab\"/></a>"
      ]
    },
    {
      "cell_type": "markdown",
      "source": [
        "**WEB Scraping using BeautifulSoup**"
      ],
      "metadata": {
        "id": "2Q3Dq_MhGS-H"
      }
    },
    {
      "cell_type": "markdown",
      "source": [
        "**Importing Library**"
      ],
      "metadata": {
        "id": "ZH945cq7dZi0"
      }
    },
    {
      "cell_type": "code",
      "source": [
        "import requests\n",
        "import time\n",
        "from bs4 import BeautifulSoup\n",
        "from IPython.display import Image, display\n",
        "import sqlite3"
      ],
      "metadata": {
        "id": "aPM5ieO1IkWI"
      },
      "execution_count": 48,
      "outputs": []
    },
    {
      "cell_type": "markdown",
      "source": [
        "**Establishing connection with website**"
      ],
      "metadata": {
        "id": "NIEhvzcddE49"
      }
    },
    {
      "cell_type": "code",
      "source": [
        "url = 'https://scholar.google.com/citations?user=9BJP_xEAAAAJ&hl=en&oi=ao'\n",
        "response = requests.get(url, headers = {'User-agent': 'Mozilla/5.0 (Windows NT 6.1; Win64; x64) AppleWebKit/537.36 (KHTML, like Gecko) Chrome/64.0.3282.186 Safari/537.36'})\n",
        "\n",
        "if response.status_code == 200:\n",
        "    html_content = response.text\n",
        "else:\n",
        "    print(f\"Failed to retrieve the page. Status code: {response.status_code}\")"
      ],
      "metadata": {
        "id": "aMb3xWKCIkS5"
      },
      "execution_count": 67,
      "outputs": []
    },
    {
      "cell_type": "markdown",
      "source": [
        "**Extracting information**"
      ],
      "metadata": {
        "id": "-RKmYSytc9ww"
      }
    },
    {
      "cell_type": "code",
      "source": [
        "# extract information\n",
        "soup = BeautifulSoup(response.text, 'html.parser')\n",
        "name = soup.find(id=\"gsc_prf_in\").text.strip()\n",
        "user_image = soup.find('div', class_='gs_rimg').find('img')['src']\n",
        "affiliation = soup.find(class_=\"gsc_prf_il\").text.strip()\n",
        "email = soup.find('a', class_='gsc_prf_ila', string='Homepage')['href']\n",
        "research_interests = [a.text.strip() for a in soup.find_all(class_=\"gsc_prf_inta\")]\n",
        "\n",
        "table = soup.find('table', {'id': 'gsc_rsb_st'}).find_all('tr')\n",
        "metrics_dict = {}\n",
        "for row in table[1:]:\n",
        "    columns = row.find_all('td')\n",
        "    metric_name = columns[0].text.strip()\n",
        "    all_value = columns[1].text.strip()\n",
        "    since_2018_value = columns[2].text.strip()\n",
        "    metrics_dict[metric_name] = {'All': all_value, 'Since 2018': since_2018_value}\n",
        "\n",
        "\n",
        "# print the extracted information\n",
        "print(\"Name:\", name)\n",
        "display(Image(url=user_image))\n",
        "print(\"Affiliation:\", affiliation)\n",
        "print(\"Email:\", email)\n",
        "print(\"Research Interests:\", research_interests)\n",
        "for metric_name, values in metrics_dict.items():\n",
        "    print(f'{metric_name}: {values}')"
      ],
      "metadata": {
        "colab": {
          "base_uri": "https://localhost:8080/",
          "height": 271
        },
        "id": "UCM-53kPZhKJ",
        "outputId": "a8583071-8c73-4c0d-afaf-3a126d2ccdf6"
      },
      "execution_count": 68,
      "outputs": [
        {
          "output_type": "stream",
          "name": "stdout",
          "text": [
            "Name: Neelima Gupta\n"
          ]
        },
        {
          "output_type": "display_data",
          "data": {
            "text/html": [
              "<img src=\"https://scholar.googleusercontent.com/citations?view_op=view_photo&user=9BJP_xEAAAAJ&citpid=2\"/>"
            ],
            "text/plain": [
              "<IPython.core.display.Image object>"
            ]
          },
          "metadata": {}
        },
        {
          "output_type": "stream",
          "name": "stdout",
          "text": [
            "Affiliation: Department of Computer Science, University of Delhi\n",
            "Email: http://people.du.ac.in/~ngupta/\n",
            "Research Interests: ['Algorithms', 'Approximation Algorithms', 'Computer Networks', 'Data Mining', 'Bio-informatics']\n",
            "Citations: {'All': '665', 'Since 2018': '229'}\n",
            "h-index: {'All': '13', 'Since 2018': '7'}\n",
            "i10-index: {'All': '20', 'Since 2018': '6'}\n"
          ]
        }
      ]
    },
    {
      "cell_type": "markdown",
      "source": [
        "**Establishing connection with database**"
      ],
      "metadata": {
        "id": "L2yIB5U2g6xk"
      }
    },
    {
      "cell_type": "code",
      "source": [
        "db_path = '/content/sample.db'\n",
        "connection = sqlite3.connect(db_path)\n",
        "cursor = connection.cursor()"
      ],
      "metadata": {
        "id": "VrtHxlNfhJIR"
      },
      "execution_count": 69,
      "outputs": []
    },
    {
      "cell_type": "markdown",
      "source": [
        "**Creating the Database and storing the information**"
      ],
      "metadata": {
        "id": "EykWQXDliOZN"
      }
    },
    {
      "cell_type": "code",
      "source": [
        "create_table_query = '''\n",
        "CREATE TABLE IF NOT EXISTS scholars (\n",
        "    id INTEGER PRIMARY KEY,\n",
        "    name TEXT NOT NULL,\n",
        "    affiliation TEXT,\n",
        "    email TEXT,\n",
        "    research_interests TEXT,\n",
        "    citations INTEGER,\n",
        "    h_index INTEGER,\n",
        "    i10_index INTEGER\n",
        ");\n",
        "'''\n",
        "cursor.execute(create_table_query)\n",
        "connection.commit()\n",
        "\n",
        "\n",
        "insert_query = '''\n",
        "INSERT INTO scholars (name, affiliation, email, research_interests, citations, h_index, i10_index)\n",
        "VALUES (?, ?, ?, ?, ?, ?, ?);\n",
        "'''\n",
        "\n",
        "sample_data = (\n",
        "    name,\n",
        "    affiliation,\n",
        "    email,\n",
        "    ', '.join(research_interests),\n",
        "    metrics_dict.get('Citations', {}).get('All', 0),\n",
        "    metrics_dict.get('h-index', {}).get('All', 0),\n",
        "    metrics_dict.get('i10-index', {}).get('All', 0),\n",
        ")\n",
        "\n",
        "cursor.execute(insert_query, sample_data)\n",
        "connection.commit()\n",
        "\n",
        "\n",
        "select_query = 'SELECT * FROM scholars;'\n",
        "cursor.execute(select_query)\n",
        "result = cursor.fetchall()\n",
        "\n",
        "\n",
        "for row in result:\n",
        "    print(row)\n",
        "\n",
        "\n",
        "connection.close()"
      ],
      "metadata": {
        "colab": {
          "base_uri": "https://localhost:8080/"
        },
        "id": "YenRnPfGiWMG",
        "outputId": "0e7e52cb-b5cf-4ca5-c822-422e5eb887f6"
      },
      "execution_count": 70,
      "outputs": [
        {
          "output_type": "stream",
          "name": "stdout",
          "text": [
            "(1, 'Dr Punam Bedi', 'Senior Professor, Department of Computer Science, University of Delhi, India', 'http://people.du.ac.in/~pbedi/', 'Artificial Intelligence, Recommender Systems, Intrusion Detection, AI for Healthcare, AI for Agriculture', 4557, 31, 100)\n",
            "(2, 'Dilip Senapati', 'Associate Professor, Department of Computer Science, University of Delhi, New Delhi', 'https://ravenshawuniversity.ac.in/?page_id=31519', 'Dynamical Systems Modeling and Simulation', 281, 9, 9)\n",
            "(3, 'Neelima Gupta', 'Department of Computer Science, University of Delhi', 'http://people.du.ac.in/~ngupta/', 'Algorithms, Approximation Algorithms, Computer Networks, Data Mining, Bio-informatics', 665, 13, 20)\n"
          ]
        }
      ]
    }
  ]
}