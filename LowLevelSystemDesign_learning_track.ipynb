{
  "nbformat": 4,
  "nbformat_minor": 0,
  "metadata": {
    "colab": {
      "provenance": [],
      "authorship_tag": "ABX9TyPRCvzOn1WSQaUGtV9Lh+SH",
      "include_colab_link": true
    },
    "kernelspec": {
      "name": "python3",
      "display_name": "Python 3"
    },
    "language_info": {
      "name": "python"
    }
  },
  "cells": [
    {
      "cell_type": "markdown",
      "metadata": {
        "id": "view-in-github",
        "colab_type": "text"
      },
      "source": [
        "<a href=\"https://colab.research.google.com/github/kohlisaurabhsagar/miscellaenous/blob/main/LowLevelSystemDesign_learning_track.ipynb\" target=\"_parent\"><img src=\"https://colab.research.google.com/assets/colab-badge.svg\" alt=\"Open In Colab\"/></a>"
      ]
    },
    {
      "cell_type": "markdown",
      "source": [
        "**Software Design & Architecture**\n",
        "\n",
        "-  if the code is scalable(without ripple effect), reusable and clean; it can be considered as Good software design.\n",
        "-  Some common qualities to take into account in software design\n",
        "include: performance, maintainability, security, and backwards\n",
        "compatibility.\n"
      ],
      "metadata": {
        "id": "MRx6gX9zo4hC"
      }
    },
    {
      "cell_type": "markdown",
      "source": [
        "**Conceptual Design --> Technical Design**<br>\n",
        "A user story is simply a requirement, often from the perspective of an end-user, which is stated in natural language. You may have seen Sam using one of these in the previous video. A user story looks like this:<br>\n",
        "<B>As a ______, I want to ______ so that ______.</B><br>\n",
        "After apply object-oriented thinking to it to discover objects and possibly further requirements!<br>\n",
        "<B>EX:</B>As an online shopper, I want to add an item to my shopping cart, so that I can purchase it.<br>\n",
        "\n"
      ],
      "metadata": {
        "id": "qrTKcdegRRbp"
      }
    },
    {
      "cell_type": "code",
      "execution_count": null,
      "metadata": {
        "id": "WJN6yByLg1WD"
      },
      "outputs": [],
      "source": []
    },
    {
      "cell_type": "markdown",
      "source": [],
      "metadata": {
        "id": "mOKpF4RzWnNc"
      }
    }
  ]
}